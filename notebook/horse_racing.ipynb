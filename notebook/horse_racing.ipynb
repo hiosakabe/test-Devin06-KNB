{
 "cells": [
  {
   "cell_type": "code",
   "execution_count": 1,
   "metadata": {},
   "outputs": [],
   "source": [
    "import numpy as np\r\n",
    "import pandas as pd\r\n",
    "import random\r\n",
    "import matplotlib.pyplot as plt\r\n",
    "import seaborn as sns\r\n",
    "from sklearn.preprocessing import LabelEncoder\r\n",
    "from sklearn.metrics import mean_squared_error\r\n",
    "from sklearn.model_selection import KFold\r\n",
    "from time import time\r\n",
    "from contextlib import contextmanager\r\n",
    "from tqdm import tqdm\r\n",
    "import lightgbm as lgbm"
   ]
  },
  {
   "cell_type": "code",
   "execution_count": 55,
   "metadata": {},
   "outputs": [],
   "source": [
    "class Timer:\r\n",
    "    \"\"\"\r\n",
    "    with構文で使用するタイマー\r\n",
    "    \r\n",
    "    使用例:\r\n",
    "        with Timer(prefix=\"処理時間:\"):\r\n",
    "            実行する処理\r\n",
    "    \"\"\"\r\n",
    "    def __init__(self, logger=None, format_str='{:.3f}[s]', prefix=None, suffix=None, sep=' '):\r\n",
    "        if prefix:\r\n",
    "            format_str = str(prefix) + sep + format_str\r\n",
    "        if suffix:\r\n",
    "            format_str = format_str + sep + str(suffix)\r\n",
    "        self.format_str = format_str\r\n",
    "        self.logger = logger\r\n",
    "        self.start_time = None\r\n",
    "        self.end_time = None\r\n",
    "\r\n",
    "    @property\r\n",
    "    def duration(self):\r\n",
    "        if self.end_time is None:\r\n",
    "            return 0\r\n",
    "        return self.end_time - self.start_time\r\n",
    "\r\n",
    "    def __enter__(self):\r\n",
    "        self.start_time = time()\r\n",
    "        return self\r\n",
    "\r\n",
    "    def __exit__(self, exc_type, exc_val, exc_tb):\r\n",
    "        self.end_time = time()\r\n",
    "        output_str = self.format_str.format(self.duration)\r\n",
    "        if self.logger:\r\n",
    "            self.logger.info(output_str)\r\n",
    "        else:\r\n",
    "            print(output_str)\r\n",
    "\r\n",
    "# ---------------------------\r\n",
    "# 特徴量作成用関数\r\n",
    "# ---------------------------\r\n",
    "def create_numeric_features(input_df):\r\n",
    "    \"\"\"\r\n",
    "    数値特徴量を抽出する関数（今回は全ての特徴量をそのまま利用）\r\n",
    "    \r\n",
    "    Parameters:\r\n",
    "        input_df (pd.DataFrame): 入力のDataFrame\r\n",
    "        \r\n",
    "    Returns:\r\n",
    "        pd.DataFrame: 数値特徴量のDataFrame\r\n",
    "    \"\"\"\r\n",
    "    return input_df[feature_columns].copy()\r\n",
    "\r\n",
    "def generate_features(input_df):\r\n",
    "    \"\"\"\r\n",
    "    複数の前処理関数を適用して特徴量を作成する関数\r\n",
    "    \r\n",
    "    Parameters:\r\n",
    "        input_df (pd.DataFrame): 入力のDataFrame\r\n",
    "        \r\n",
    "    Returns:\r\n",
    "        pd.DataFrame: 作成された特徴量のDataFrame\r\n",
    "    \"\"\"\r\n",
    "    processing_functions = [create_numeric_features]\r\n",
    "    combined_features = pd.DataFrame()\r\n",
    "    \r\n",
    "    for function in tqdm(processing_functions, total=len(processing_functions)):\r\n",
    "        with Timer(prefix='create ' + function.__name__):\r\n",
    "            features_part = function(input_df)\r\n",
    "        assert len(features_part) == len(input_df), f\"{function.__name__} で行数が一致しません\"\r\n",
    "        combined_features = pd.concat([combined_features, features_part], axis=1)\r\n",
    "    return combined_features\r\n",
    "\r\n",
    "# ---------------------------\r\n",
    "#  LightGBMによるモデル学習・評価関数\r\n",
    "# ---------------------------\r\n",
    "def train_lgbm_model(features, target, cv_splits, params: dict = None, verbose: int = 50):\r\n",
    "    \"\"\"\r\n",
    "    LightGBMモデルの学習と交差検証の実施\r\n",
    "    \r\n",
    "    Parameters:\r\n",
    "        features (np.ndarray): 特徴量\r\n",
    "        target (np.ndarray): 目的変数\r\n",
    "        cv_splits (list): 交差検証の分割リスト\r\n",
    "        params (dict): LightGBMのパラメータ\r\n",
    "        verbose (int): 学習中の詳細表示レベル\r\n",
    "        \r\n",
    "    Returns:\r\n",
    "        tuple: (全体のout-of-fold予測, 学習済みモデルのリスト)\r\n",
    "    \"\"\"\r\n",
    "    if params is None:\r\n",
    "        params = {}\r\n",
    "\r\n",
    "    model_list = []\r\n",
    "    oof_predictions = np.zeros_like(target, dtype=np.float64)\r\n",
    "\r\n",
    "    for fold_idx, (train_idx, valid_idx) in enumerate(cv_splits):\r\n",
    "        X_train, y_train = features[train_idx], target[train_idx]\r\n",
    "        X_valid, y_valid = features[valid_idx], target[valid_idx]\r\n",
    "\r\n",
    "        model = lgbm.LGBMRegressor(**params)\r\n",
    "        with Timer(prefix=f'fit fold={fold_idx}'):\r\n",
    "            model.fit(\r\n",
    "                X_train, y_train,\r\n",
    "                eval_set=[(X_valid, y_valid)],\r\n",
    "                # early_stopping_rounds=100, \r\n",
    "                verbose=verbose\r\n",
    "            )\r\n",
    "\r\n",
    "        fold_predictions = model.predict(X_valid)\r\n",
    "        oof_predictions[valid_idx] = fold_predictions\r\n",
    "        model_list.append(model)\r\n",
    "        fold_rmsle = mean_squared_error(y_valid, fold_predictions) ** 0.5\r\n",
    "        print(f'Fold {fold_idx} RMSLE: {fold_rmsle:.4f}\\n')\r\n",
    "\r\n",
    "    total_rmsle = mean_squared_error(target, oof_predictions) ** 0.5\r\n",
    "    print('-' * 50)\r\n",
    "    print(f'FINISHED | Whole RMSLE: {total_rmsle:.4f}')\r\n",
    "    return oof_predictions, model_list\r\n"
   ]
  },
  {
   "cell_type": "code",
   "execution_count": 2,
   "metadata": {},
   "outputs": [
    {
     "name": "stderr",
     "output_type": "stream",
     "text": [
      "C:\\Users\\ykanbe\\AppData\\Local\\Temp\\ipykernel_11768\\404422921.py:1: DtypeWarning: Columns (15,16,17,18,19,20,21,22,23,24,34,36,40) have mixed types. Specify dtype option on import or set low_memory=False.\n",
      "  data1 = pd.read_csv(\"../data/1986-1992_race_result.csv\")\n",
      "C:\\Users\\ykanbe\\AppData\\Local\\Temp\\ipykernel_11768\\404422921.py:2: DtypeWarning: Columns (8,15,16,17,18,22,25,26,27,34,36,40) have mixed types. Specify dtype option on import or set low_memory=False.\n",
      "  data2 = pd.read_csv(\"../data/1993-1999_race_result.csv\")\n",
      "C:\\Users\\ykanbe\\AppData\\Local\\Temp\\ipykernel_11768\\404422921.py:3: DtypeWarning: Columns (11,15,16,18,22,23,25,34,36,40) have mixed types. Specify dtype option on import or set low_memory=False.\n",
      "  data3 = pd.read_csv(\"../data/2000-2005_race_result.csv\")\n",
      "C:\\Users\\ykanbe\\AppData\\Local\\Temp\\ipykernel_11768\\404422921.py:4: DtypeWarning: Columns (11,16,18,22,23,34,36,40) have mixed types. Specify dtype option on import or set low_memory=False.\n",
      "  data4 = pd.read_csv(\"../data/2006-2009_race_result.csv\")\n",
      "C:\\Users\\ykanbe\\AppData\\Local\\Temp\\ipykernel_11768\\404422921.py:5: DtypeWarning: Columns (22,23,32,34,36,40) have mixed types. Specify dtype option on import or set low_memory=False.\n",
      "  data5 = pd.read_csv(\"../data/2010-2013_race_result.csv\")\n"
     ]
    }
   ],
   "source": [
    "data1 = pd.read_csv(\"../data/1986-1992_race_result.csv\")\r\n",
    "data2 = pd.read_csv(\"../data/1993-1999_race_result.csv\")\r\n",
    "data3 = pd.read_csv(\"../data/2000-2005_race_result.csv\")\r\n",
    "data4 = pd.read_csv(\"../data/2006-2009_race_result.csv\")\r\n",
    "data5 = pd.read_csv(\"../data/2010-2013_race_result.csv\")\r\n",
    "data = pd.concat([data1, data2, data3, data4, data5])"
   ]
  },
  {
   "cell_type": "code",
   "execution_count": 23,
   "metadata": {},
   "outputs": [],
   "source": [
    "# 発送前にわかっている情報のみ特徴量を絞る\r\n",
    "feature_columns = [\r\n",
    "    'Race PP ID', 'Race ID', 'Race Day', 'Race Meeting Number',\r\n",
    "    'Racecourse Code', 'Racecourse Name', 'N-th Racing Day',\r\n",
    "    'Race Condition','Race Number', 'Race Name',\r\n",
    "    'Listed and Graded Races', 'Steeplechase Category',\r\n",
    "    'Turf and Dirt Category', 'Turf and Dirt Category2',\r\n",
    "    'Clockwise, Anti-clockwise and Straight Course Category',\r\n",
    "    'Inner Circle, Outer Circle and Tasuki Course Category', 'Distance(m)',\r\n",
    "    'Weather', 'Track Condition1', 'Post Time',\r\n",
    "    'FP Note', 'Bracket Number', 'Post Position', 'Horse Name', 'Sex',\r\n",
    "    'Age', 'Weight(Kg)', 'Jockey', 'Margin',\r\n",
    "    'Win Odds(100Yen)', 'Win Fav', 'Horse Weight',\r\n",
    "    'Horse Weight Gain and Loss',\r\n",
    "    'East, West, Foreign Country and Local Category', 'Trainer', 'Owner',\r\n",
    "]\r\n",
    "# 着順を予測\r\n",
    "target_column = \"Final Position\""
   ]
  },
  {
   "cell_type": "code",
   "execution_count": 3,
   "metadata": {},
   "outputs": [
    {
     "name": "stdout",
     "output_type": "stream",
     "text": [
      "元の列名: ['レース馬番ID', 'レースID', 'レース日付', '開催回数', '競馬場コード', '競馬場名', '開催日数', '競争条件', 'レース記号/[抽]', 'レース記号/(馬齢)', 'レース記号/牝', 'レース記号/(父)', 'レース記号/(別定)', 'レース記号/(混)', 'レース記号/(ハンデ)', 'レース記号/(抽)', 'レース記号/(市)', 'レース記号/(定量)', 'レース記号/牡', 'レース記号/関東配布馬', 'レース記号/(指)', 'レース記号/関西配布馬', 'レース記号/九州産馬', 'レース記号/見習騎手', 'レース記号/せん', 'レース記号/(国際)', 'レース記号/[指]', 'レース記号/(特指)', 'レース番号', '重賞回次', 'レース名', 'リステッド・重賞競走', '障害区分', '芝・ダート区分', '芝・ダート区分2', '右左回り・直線区分', '内・外・襷区分', '距離(m)', '天候', '馬場状態1', '馬場状態2', '発走時刻', '着順', '着順注記', '枠番', '馬番', '馬名', '性別', '馬齢', '斤量', '騎手', 'タイム', '着差', '1コーナー', '2コーナー', '3コーナー', '4コーナー', '上り', '単勝', '人気', '馬体重', '場体重増減', '東西・外国・地方区分', '調教師', '馬主', '賞金(万円)', 'year']\n",
      "列数: 67\n"
     ]
    }
   ],
   "source": [
    "# 読み込んだデータの元の列名を確認\r\n",
    "original_columns = data.columns.tolist()\r\n",
    "print(\"元の列名:\", original_columns)\r\n",
    "print(\"列数:\", len(original_columns))"
   ]
  },
  {
   "cell_type": "code",
   "execution_count": 4,
   "metadata": {},
   "outputs": [
    {
     "name": "stdout",
     "output_type": "stream",
     "text": [
      "新しい列名: ['Race PP ID', 'Race ID', 'Race Day', 'Race Meeting Number', 'Racecourse Code', 'Racecourse Name', 'N-th Racing Day', 'Race Condition', 'Race Symbol/Drawing', 'Race Symbol/Age', 'Race Symbol/Mare', 'Race Symbol/Sire', 'Race Symbol/Special Weight', 'Race Symbol/Mixed', 'Race Symbol/Handicap', 'Race Symbol/Drawing2', 'Race Symbol/Market', 'Race Symbol/Fixed Weight', 'Race Symbol/Stallion', 'Race Symbol/Kanto Distributed Horses', 'Race Symbol/Specified', 'Race Symbol/Kasai Distributed Horses', 'Race Symbol/Horses from Kyushu', 'Race Symbol/Apprentice', 'Race Symbol/Gelding', 'Race Symbol/International', 'Race Symbol/Specified2', 'Race Symbol/Special Specified', 'Race Number', 'Graded Races N-th Time', 'Race Name', 'Listed and Graded Races', 'Steeplechase Category', 'Turf and Dirt Category', 'Turf and Dirt Category2', 'Clockwise, Anti-clockwise and Straight Course Category', 'Inner Circle, Outer Circle and Tasuki Course Category', 'Distance(m)', 'Weather', 'Track Condition1', 'Track Condition2', 'Post Time', 'Final Position', 'FP Note', 'Bracket Number', 'Post Position', 'Horse Name', 'Sex', 'Age', 'Weight(Kg)', 'Jockey', 'Total Time(1/10s)', 'Margin', 'Position 1st Corner', 'Position 2nd Corner', 'Position 3rd Corner', 'Position 4th Corner', 'Time of Last 3 Furlongs (600m)', 'Win Odds(100Yen)', 'Win Fav', 'Horse Weight', 'Horse Weight Gain and Loss', 'East, West, Foreign Country and Local Category', 'Trainer', 'Owner', 'Prize Money(10000Yen)', 'year']\n",
      "列数: 67\n"
     ]
    }
   ],
   "source": [
    "new_columns = [\r\n",
    "    'Race PP ID', 'Race ID', 'Race Day', 'Race Meeting Number', 'Racecourse Code', 'Racecourse Name', \r\n",
    "    'N-th Racing Day', 'Race Condition', 'Race Symbol/Drawing', 'Race Symbol/Age', 'Race Symbol/Mare', \r\n",
    "    'Race Symbol/Sire', 'Race Symbol/Special Weight', 'Race Symbol/Mixed', 'Race Symbol/Handicap', \r\n",
    "    'Race Symbol/Drawing2', 'Race Symbol/Market', 'Race Symbol/Fixed Weight', 'Race Symbol/Stallion', \r\n",
    "    'Race Symbol/Kanto Distributed Horses', 'Race Symbol/Specified', 'Race Symbol/Kasai Distributed Horses', \r\n",
    "    'Race Symbol/Horses from Kyushu', 'Race Symbol/Apprentice', 'Race Symbol/Gelding', 'Race Symbol/International', \r\n",
    "    'Race Symbol/Specified2', 'Race Symbol/Special Specified', 'Race Number', 'Graded Races N-th Time', \r\n",
    "    'Race Name', 'Listed and Graded Races', 'Steeplechase Category', 'Turf and Dirt Category', \r\n",
    "    'Turf and Dirt Category2', 'Clockwise, Anti-clockwise and Straight Course Category', \r\n",
    "    'Inner Circle, Outer Circle and Tasuki Course Category', 'Distance(m)', 'Weather', 'Track Condition1', \r\n",
    "    'Track Condition2', 'Post Time', 'Final Position', 'FP Note', 'Bracket Number', 'Post Position', \r\n",
    "    'Horse Name', 'Sex', 'Age', 'Weight(Kg)', 'Jockey', 'Total Time(1/10s)', 'Margin', \r\n",
    "    'Position 1st Corner', 'Position 2nd Corner', 'Position 3rd Corner', 'Position 4th Corner', \r\n",
    "    'Time of Last 3 Furlongs (600m)', 'Win Odds(100Yen)', 'Win Fav', 'Horse Weight', \r\n",
    "    'Horse Weight Gain and Loss', 'East, West, Foreign Country and Local Category', 'Trainer', \r\n",
    "    'Owner', 'Prize Money(10000Yen)', 'year'\r\n",
    "]\r\n",
    "print(\"新しい列名:\", new_columns)\r\n",
    "print(\"列数:\", len(new_columns))\r\n",
    "# 列名を新しいものに変更\r\n",
    "data.columns = new_columns"
   ]
  },
  {
   "cell_type": "code",
   "execution_count": 44,
   "metadata": {},
   "outputs": [
    {
     "name": "stdout",
     "output_type": "stream",
     "text": [
      "Race PP ID: int64\n",
      "Race ID: int64\n",
      "Race Day: object\n",
      "Race Meeting Number: int64\n",
      "Racecourse Code: int64\n",
      "Racecourse Name: object\n",
      "N-th Racing Day: int64\n",
      "Race Condition: object\n",
      "Race Symbol/Drawing: object\n",
      "Race Symbol/Age: object\n",
      "Race Symbol/Mare: object\n",
      "Race Symbol/Sire: object\n",
      "Race Symbol/Special Weight: object\n",
      "Race Symbol/Mixed: object\n",
      "Race Symbol/Handicap: object\n",
      "Race Symbol/Drawing2: object\n",
      "Race Symbol/Market: object\n",
      "Race Symbol/Fixed Weight: object\n",
      "Race Symbol/Stallion: object\n",
      "Race Symbol/Kanto Distributed Horses: object\n",
      "Race Symbol/Specified: object\n",
      "Race Symbol/Kasai Distributed Horses: object\n",
      "Race Symbol/Horses from Kyushu: object\n",
      "Race Symbol/Apprentice: object\n",
      "Race Symbol/Gelding: object\n",
      "Race Symbol/International: object\n",
      "Race Symbol/Specified2: object\n",
      "Race Symbol/Special Specified: object\n",
      "Race Number: int64\n",
      "Graded Races N-th Time: float64\n",
      "Race Name: object\n",
      "Listed and Graded Races: object\n",
      "Steeplechase Category: object\n",
      "Turf and Dirt Category: object\n",
      "Turf and Dirt Category2: object\n",
      "Clockwise, Anti-clockwise and Straight Course Category: object\n",
      "Inner Circle, Outer Circle and Tasuki Course Category: object\n",
      "Distance(m): int64\n",
      "Weather: object\n",
      "Track Condition1: object\n",
      "Track Condition2: object\n",
      "Post Time: object\n",
      "Final Position: float64\n",
      "FP Note: object\n",
      "Bracket Number: int64\n",
      "Post Position: int64\n",
      "Horse Name: object\n",
      "Sex: object\n",
      "Age: int64\n",
      "Weight(Kg): float64\n",
      "Jockey: object\n",
      "Total Time(1/10s): object\n",
      "Margin: object\n",
      "Position 1st Corner: float64\n",
      "Position 2nd Corner: float64\n",
      "Position 3rd Corner: float64\n",
      "Position 4th Corner: float64\n",
      "Time of Last 3 Furlongs (600m): float64\n",
      "Win Odds(100Yen): float64\n",
      "Win Fav: float64\n",
      "Horse Weight: float64\n",
      "Horse Weight Gain and Loss: float64\n",
      "East, West, Foreign Country and Local Category: object\n",
      "Trainer: object\n",
      "Owner: object\n",
      "Prize Money(10000Yen): float64\n",
      "year: int64\n"
     ]
    }
   ],
   "source": [
    "# target_columnに欠損がない行のみ抽出\r\n",
    "non_null_indices = data[target_column].dropna(axis=0).index.tolist()\r\n",
    "filtered_df = data.iloc[non_null_indices]\r\n",
    "\r\n",
    "# 各列の型を確認し、object型の場合は欠損値を'N'で補完し、LabelEncoderで数値変換\r\n",
    "processed_df = filtered_df.copy()\r\n",
    "for column in processed_df.columns:\r\n",
    "    print(f\"{column}: {processed_df[column].dtype}\")\r\n",
    "    if processed_df[column].dtype == 'object':\r\n",
    "        processed_df[column] = processed_df[column].fillna('N')\r\n",
    "        label_encoder = LabelEncoder()\r\n",
    "        processed_df[column] = label_encoder.fit_transform(processed_df[column].values)"
   ]
  },
  {
   "cell_type": "code",
   "execution_count": 45,
   "metadata": {},
   "outputs": [
    {
     "name": "stdout",
     "output_type": "stream",
     "text": [
      "1198896\n",
      "9276\n"
     ]
    }
   ],
   "source": [
    "print(len(processed_df))\r\n",
    "processed_df = processed_df.dropna(axis=0)\r\n",
    "print(len(processed_df))\r\n"
   ]
  },
  {
   "cell_type": "code",
   "execution_count": 46,
   "metadata": {},
   "outputs": [],
   "source": [
    "features_df = processed_df[feature_columns]\r\n",
    "target_series = processed_df[target_column]"
   ]
  },
  {
   "cell_type": "code",
   "execution_count": 49,
   "metadata": {},
   "outputs": [
    {
     "name": "stderr",
     "output_type": "stream",
     "text": [
      "  0%|          | 0/1 [00:00<?, ?it/s]"
     ]
    },
    {
     "name": "stdout",
     "output_type": "stream",
     "text": [
      "create create_numeric_features 0.002[s]\n"
     ]
    },
    {
     "name": "stderr",
     "output_type": "stream",
     "text": [
      "100%|██████████| 1/1 [00:00<00:00, 250.50it/s]\n"
     ]
    }
   ],
   "source": [
    "# 特徴量の生成\r\n",
    "train_features_df = generate_features(processed_df)"
   ]
  },
  {
   "cell_type": "code",
   "execution_count": 50,
   "metadata": {},
   "outputs": [
    {
     "name": "stdout",
     "output_type": "stream",
     "text": [
      "Race PP ID 0\n",
      "Race ID 0\n",
      "Race Day 0\n",
      "Race Meeting Number 0\n",
      "Racecourse Code 0\n",
      "Racecourse Name 0\n",
      "N-th Racing Day 0\n",
      "Race Condition 0\n",
      "Race Number 0\n",
      "Race Name 0\n",
      "Listed and Graded Races 0\n",
      "Steeplechase Category 0\n",
      "Turf and Dirt Category 0\n",
      "Turf and Dirt Category2 0\n",
      "Clockwise, Anti-clockwise and Straight Course Category 0\n",
      "Inner Circle, Outer Circle and Tasuki Course Category 0\n",
      "Distance(m) 0\n",
      "Weather 0\n",
      "Track Condition1 0\n",
      "Post Time 0\n",
      "FP Note 0\n",
      "Bracket Number 0\n",
      "Post Position 0\n",
      "Horse Name 0\n",
      "Sex 0\n",
      "Age 0\n",
      "Weight(Kg) 0\n",
      "Jockey 0\n",
      "Margin 0\n",
      "Win Odds(100Yen) 0\n",
      "Win Fav 0\n",
      "Horse Weight 0\n",
      "Horse Weight Gain and Loss 0\n",
      "East, West, Foreign Country and Local Category 0\n",
      "Trainer 0\n",
      "Owner 0\n"
     ]
    }
   ],
   "source": [
    "pd.set_option('display.max_columns', 50)\r\n",
    "for col in train_features_df.columns:\r\n",
    "    print(col, len(train_features_df[train_features_df[col].isnull()]))"
   ]
  },
  {
   "cell_type": "code",
   "execution_count": 56,
   "metadata": {},
   "outputs": [
    {
     "name": "stdout",
     "output_type": "stream",
     "text": [
      "[100]\tvalid_0's l2: 0.343351\n",
      "fit fold=0 0.116[s]\n",
      "Fold 0 RMSLE: 0.5860\n",
      "\n",
      "[100]\tvalid_0's l2: 0.320608\n",
      "fit fold=1 0.103[s]\n",
      "Fold 1 RMSLE: 0.5662\n",
      "\n",
      "[100]\tvalid_0's l2: 0.345554\n",
      "fit fold=2 0.103[s]\n",
      "Fold 2 RMSLE: 0.5878\n",
      "\n",
      "[100]\tvalid_0's l2: 0.308387\n",
      "fit fold=3 0.096[s]\n",
      "Fold 3 RMSLE: 0.5553\n",
      "\n",
      "[100]\tvalid_0's l2: 0.331653\n",
      "fit fold=4 0.096[s]\n",
      "Fold 4 RMSLE: 0.5759\n",
      "\n",
      "--------------------------------------------------\n",
      "FINISHED | Whole RMSLE: 0.5744\n"
     ]
    },
    {
     "data": {
      "image/png": "[encoded data removed]",
      "text/plain": "<Figure size 432x432 with 1 Axes>"
     },
     "metadata": {
      "needs_background": "light"
     },
     "output_type": "display_data"
    }
   ],
   "source": [
    "# ---------------------------\r\n",
    "# モデル学習の実行\r\n",
    "# ---------------------------\r\n",
    "# KFoldによる交差検証の設定\r\n",
    "kf = KFold(n_splits=5, shuffle=True, random_state=71)\r\n",
    "target_array = np.array(target_series)\r\n",
    "cv_indices = list(kf.split(train_features_df, target_array))\r\n",
    "\r\n",
    "# LightGBMのパラメータ（必要に応じて変更）\r\n",
    "lgbm_params = {}\r\n",
    "\r\n",
    "# モデルの学習を実行\r\n",
    "oof_preds, trained_models = train_lgbm_model(train_features_df.values, target_array, cv_indices, params=lgbm_params, verbose=100)\r\n",
    "\r\n",
    "# 予測値と実際の目的変数との散布図をプロット\r\n",
    "fig, ax = plt.subplots(figsize=(6, 6))\r\n",
    "ax.set_title(target_column[0], fontsize=20)\r\n",
    "ax.set_xlabel('Predicted train ' + target_column[0], fontsize=12)\r\n",
    "ax.set_ylabel('Actual train ' + target_column[0], fontsize=12)\r\n",
    "ax.scatter(oof_preds, target_array)\r\n",
    "plt.show()"
   ]
  },
  {
   "cell_type": "code",
   "execution_count": null,
   "metadata": {},
   "outputs": [],
   "source": []
  }
 ],
 "metadata": {
  "kernelspec": {
   "display_name": "Python 3 (ipykernel)",
   "language": "python",
   "name": "python3"
  },
  "language_info": {
   "codemirror_mode": {
    "name": "ipython",
    "version": 3
   },
   "file_extension": ".py",
   "mimetype": "text/x-python",
   "name": "python",
   "nbconvert_exporter": "python",
   "pygments_lexer": "ipython3",
   "version": "3.9.12"
  },
  "orig_nbformat": 2
 },
 "nbformat": 4,
 "nbformat_minor": 2
}